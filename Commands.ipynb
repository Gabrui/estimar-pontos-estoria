{
 "cells": [
  {
   "cell_type": "code",
   "execution_count": 301,
   "metadata": {},
   "outputs": [],
   "source": [
    "import os\n",
    "import math\n",
    "import gzip\n",
    "import pickle\n",
    "import random\n",
    "\n",
    "from glob import glob\n",
    "from collections import defaultdict\n",
    "\n",
    "import numpy as np\n",
    "import pandas as pd\n",
    "import seaborn as sns\n",
    "import statsmodels.api as sm\n",
    "import matplotlib\n",
    "import matplotlib.pyplot as plt\n",
    "\n",
    "import spacy\n",
    "\n",
    "from collections import defaultdict\n",
    "\n",
    "#nlp = spacy.load('pt', disable=['parser', 'tagger', 'ner'])\n",
    "nlp = spacy.load('en', disable=['parser', 'tagger', 'ner'])\n",
    "#tokenizar = spacy.tokenizer.Tokenizer(nlp.vocab)"
   ]
  },
  {
   "cell_type": "code",
   "execution_count": 498,
   "metadata": {},
   "outputs": [],
   "source": [
    "tex_output = 'reports/tables/%s.tex'"
   ]
  },
  {
   "cell_type": "code",
   "execution_count": 311,
   "metadata": {},
   "outputs": [],
   "source": [
    "linha_melhor = int(a[-20:].split('epoch')[-1].strip())"
   ]
  },
  {
   "cell_type": "code",
   "execution_count": 319,
   "metadata": {},
   "outputs": [
    {
     "data": {
      "text/plain": [
       "['13',\n",
       " '0.7339',\n",
       " '0.3407',\n",
       " '|',\n",
       " '0.3949',\n",
       " '73.6964',\n",
       " '1.3368',\n",
       " '0.0000',\n",
       " '|',\n",
       " '0.4259',\n",
       " '71.9432',\n",
       " '0.4236',\n",
       " '0.0000',\n",
       " '|  Best result at epoch 13']"
      ]
     },
     "execution_count": 319,
     "metadata": {},
     "output_type": "execute_result"
    }
   ],
   "source": [
    "a.split('\\n')[linha_melhor+1].split('\\t')"
   ]
  },
  {
   "cell_type": "code",
   "execution_count": 320,
   "metadata": {
    "scrolled": false
   },
   "outputs": [
    {
     "data": {
      "text/plain": [
       "'0.4259'"
      ]
     },
     "execution_count": 320,
     "metadata": {},
     "output_type": "execute_result"
    }
   ],
   "source": [
    "a.split('\\n')[linha_melhor+1].split('\\t')[9]"
   ]
  },
  {
   "cell_type": "code",
   "execution_count": 324,
   "metadata": {},
   "outputs": [],
   "source": [
    "repro_ae_melhor = {}\n",
    "for path in glob('/home/gmelo/python-virtual-environments/datasets/storypoint/IEEE TSE2018/Deep-SE/classification/log/*.txt'):\n",
    "    project = path.split('/')[-1]\n",
    "    dim = project.split('_')[3].split('dim')[-1]\n",
    "    project = project.split('_')[0]\n",
    "    with open(path) as file:\n",
    "        a = file.read()\n",
    "    linha_melhor = int(a[-20:].split('epoch')[-1].strip())\n",
    "    v_mae = a.split('\\n')[linha_melhor+1].split('\\t')[4]\n",
    "    t_mae = a.split('\\n')[linha_melhor+1].split('\\t')[9]\n",
    "    if not repro_ae_melhor.get(project) or v_mae < repro_ae_melhor[project][0]:\n",
    "        repro_ae_melhor[project] = (v_mae, dim, t_mae)"
   ]
  },
  {
   "cell_type": "code",
   "execution_count": 325,
   "metadata": {},
   "outputs": [
    {
     "data": {
      "text/plain": [
       "{'ccasj': ('0.2549', '200', '0.2208'),\n",
       " 'talendesb': ('0.6389', '100', '0.6405'),\n",
       " 'bamboo': ('0.6916', '50', '0.8181'),\n",
       " 'clover': ('1.6124', '200', '2.3090'),\n",
       " 'usergrid': ('0.8489', '50', '1.0392'),\n",
       " 'mulestudio': ('3.1381', '100', '3.1794'),\n",
       " 'appceleratorstudio': ('1.4351', '50', '1.3959'),\n",
       " 'jirasoftware': ('1.4241', '100', '1.4001'),\n",
       " 'mesos': ('1.0898', '50', '1.0374'),\n",
       " 'datamanagement': ('3.6211', '100', '3.7717'),\n",
       " 'duracloud': ('0.5895', '100', '0.6093'),\n",
       " 'talenddataquality': ('2.8038', '200', '2.8113'),\n",
       " 'titanium': ('2.3186', '100', '2.0891'),\n",
       " 'moodle': ('9.1340', '100', '7.9581'),\n",
       " 'mule': ('2.0063', '200', '2.4263'),\n",
       " 'springxd': ('1.7196', '200', '1.6311'),\n",
       " 'aptanastudio': ('2.8317', '100', '3.3312')}"
      ]
     },
     "execution_count": 325,
     "metadata": {},
     "output_type": "execute_result"
    }
   ],
   "source": [
    "repro_ae_melhor"
   ]
  },
  {
   "cell_type": "code",
   "execution_count": 506,
   "metadata": {},
   "outputs": [],
   "source": [
    "repro_ae = {'mean': {}, 'median': {}, 'sa': {}, 'raw': {}}\n",
    "for path in glob('/home/gmelo/python-virtual-environments/datasets/storypoint/IEEE TSE2018/Deep-SE/classification/log/ar/raw_*.txt'):\n",
    "    project = path.split('/')[-1]\n",
    "    dim = project.split('_')[4].split('dim')[-1]\n",
    "    project = project.split('_')[1]\n",
    "    if project == 'ccasj':\n",
    "        continue\n",
    "    aes = np.loadtxt(path)\n",
    "    repro_ae['raw'][project+'_'+dim] = aes\n",
    "    repro_ae['mean'][project+'_'+dim] = np.mean(np.abs(aes))\n",
    "    repro_ae['median'][project+'_'+dim] = np.median(np.abs(aes))\n",
    "    repro_ae['sa'][project+'_'+dim] = 100 - ((100 - metrics[project][3]) / metrics[project][1] * np.mean(np.abs(aes)))"
   ]
  },
  {
   "cell_type": "code",
   "execution_count": 507,
   "metadata": {},
   "outputs": [],
   "source": [
    "repro = {}\n",
    "for project in project_repos.keys():\n",
    "    dim = repro_ae_melhor[project][1]\n",
    "    repro[project] = (project_name[project], repro_ae['mean'][project+'_'+dim], repro_ae['median'][project+'_'+dim], repro_ae['sa'][project+'_'+dim])\n",
    "tab_repro = pd.DataFrame.from_dict(repro, orient='index', columns=['Project', 'Mean Average Error', 'Median Average Error', 'Gain over Random'])\n",
    "with open('reports/tables/deep-se-reproduction.tex', 'w') as file:\n",
    "    tab_repro.to_latex(index=False, buf=file)"
   ]
  },
  {
   "cell_type": "code",
   "execution_count": 173,
   "metadata": {},
   "outputs": [],
   "source": [
    "def pareto_eval(x_eval, data):\n",
    "    x = np.min(data)\n",
    "    a = len(data) / np.sum(np.log(data/x))\n",
    "    return a * np.power(x, a) * np.power(x_eval, -a - 1)\n",
    "\n",
    "def pareto_d1_eval(x_eval, data):\n",
    "    d = 1 - np.min(data)\n",
    "    x = np.min(data+d)\n",
    "    a = len(data) / np.sum(np.log((data+d)/x))\n",
    "    return a * np.power(x, a) * np.power(x_eval+d, -a - 1)\n",
    "\n",
    "def pareto_d2_eval(x_eval, data, d):\n",
    "    x = np.min(data+d)\n",
    "    a = len(data) / np.sum(np.log((data+d)/x))\n",
    "    return a * np.power(x, a) * np.power(x_eval+d, -a - 1)\n",
    "\n",
    "def exp_eval(x_eval, data):\n",
    "    l = (len(data)-2)/np.sum(data)\n",
    "    return l * np.exp(-l * x_eval)"
   ]
  },
  {
   "cell_type": "code",
   "execution_count": 41,
   "metadata": {},
   "outputs": [],
   "source": [
    "project_repos = {\n",
    "    'mesos': 'apache',\n",
    "    'usergrid': 'apache',\n",
    "    'appceleratorstudio': 'appcelerator',\n",
    "    'aptanastudio': 'appcelerator',\n",
    "    'titanium': 'appcelerator',\n",
    "    'duracloud': 'duraspace',\n",
    "    'bamboo': 'jira',\n",
    "    'clover': 'jira',\n",
    "    'jirasoftware': 'jira',\n",
    "    'moodle': 'moodle',\n",
    "    'datamanagement': 'lsstcorp',\n",
    "    'mule': 'mulesoft',\n",
    "    'mulestudio': 'mulesoft',\n",
    "    'springxd': 'spring',\n",
    "    'talenddataquality': 'talendforge',\n",
    "    'talendesb': 'talendforge'\n",
    "}\n",
    "project_name = {\n",
    "    'mesos': 'Mesos',\n",
    "    'usergrid': 'Usergrid',\n",
    "    'appceleratorstudio': 'Appcelerator Studio',\n",
    "    'aptanastudio': 'Aptana Studio',\n",
    "    'titanium': 'Titanium SDK/CLI',\n",
    "    'duracloud': 'DuraCloud',\n",
    "    'bamboo': 'Bamboo',\n",
    "    'clover': 'Clover',\n",
    "    'jirasoftware': 'Jira Software',\n",
    "    'moodle': 'Moodle',\n",
    "    'datamanagement': 'Data Management',\n",
    "    'mule': 'Mule',\n",
    "    'mulestudio': 'Mule Studio',\n",
    "    'springxd': 'Spring XD',\n",
    "    'talenddataquality': 'Talend Data Quality',\n",
    "    'talendesb': 'Talend ESB'\n",
    "}\n",
    "repo_name = {\n",
    "    'apache': 'Apache',\n",
    "    'appcelerator': 'Appcelerator',\n",
    "    'duraspace': 'DuraSpace',\n",
    "    'jira': 'Atlassian',\n",
    "    'moodle': 'Moodle',\n",
    "    'lsstcorp': 'LSST Corporation',\n",
    "    'mulesoft': 'MuleSoft',\n",
    "    'spring': 'Spring',\n",
    "    'talendforge': 'TalendForge'\n",
    "}\n",
    "story_points_clip = {\n",
    "    'mesos': 5.0,\n",
    "    'usergrid': 5.0,\n",
    "    'appceleratorstudio': 8.0,\n",
    "    'aptanastudio': 13.0,\n",
    "    'titanium': 13.0,\n",
    "    'duracloud': 4.0,\n",
    "    'bamboo': 5.0,\n",
    "    'clover': 13.0,\n",
    "    'jirasoftware': 8.0,\n",
    "    'moodle': 40.0,\n",
    "    'datamanagement': 21.0,\n",
    "    'mule': 8.0,\n",
    "    'mulestudio': 13.0,\n",
    "    'springxd': 8.0,\n",
    "    'talenddataquality': 13.0,\n",
    "    'talendesb': 3.0\n",
    "}\n",
    "data_path = 'data/train/%s.csv'"
   ]
  },
  {
   "cell_type": "code",
   "execution_count": 43,
   "metadata": {},
   "outputs": [
    {
     "name": "stdout",
     "output_type": "stream",
     "text": [
      "Mesos\n",
      "Usergrid\n",
      "Appcelerator Studio\n",
      "Aptana Studio\n",
      "Titanium SDK/CLI\n",
      "DuraCloud\n",
      "Bamboo\n",
      "Clover\n",
      "Jira Software\n",
      "Moodle\n",
      "Data Management\n",
      "Mule\n",
      "Mule Studio\n",
      "Spring XD\n",
      "Talend Data Quality\n",
      "Talend ESB\n"
     ]
    }
   ],
   "source": [
    "for p in project_repos.keys():\n",
    "    print(project_name[p])"
   ]
  },
  {
   "cell_type": "code",
   "execution_count": 502,
   "metadata": {},
   "outputs": [],
   "source": [
    "test_fraction = 0.2\n",
    "val_fraction = 0.2\n",
    "\n",
    "def ler_csv_texto_tokenizado(caminho_arquivo, tokenizador):\n",
    "    tabela_dados = pd.read_csv(caminho_arquivo)\n",
    "    titulos = tabela_dados.values[:, 1].astype('str')\n",
    "    separadores = np.full(len(titulos), '. ')\n",
    "    descricao = tabela_dados.values[:, 2].astype('str')\n",
    "    valores = tabela_dados.values[:, 3].astype('float32')\n",
    "    juntos = [a + b + c for a, b, c in zip(titulos, separadores, descricao)]\n",
    "    tokenizados = [[w.text.strip().lower() for w in tokenizador(frase) if not w.text.isspace()] for frase in juntos]\n",
    "    return tokenizados, valores\n",
    "\n",
    "def gerar_dicionario(lista_tokens, vocabulario_maximo=2000):\n",
    "    contagem = defaultdict(int)\n",
    "    for tokens in lista_tokens:\n",
    "        for token in tokens:\n",
    "            contagem[token] += 1\n",
    "    ordenadas = sorted(contagem.items(), key=lambda x: x[1], reverse=True)\n",
    "    IDs = {'EOF_VALUE': 0, 'UNK_VALUE': 1}\n",
    "    for i in range(min(vocabulario_maximo, len(ordenadas))): # EOF = 0, ID_desconhecido = 1\n",
    "        IDs[ordenadas[i][0]] = i + 2\n",
    "    return IDs\n",
    "\n",
    "def converte_tokens_pretreino(lista_tokens, dic):\n",
    "    dados = [np.array([(dic.get(tk) or 1) for tk in tks], dtype=np.int16) for tks in lista_tokens]\n",
    "    return dados\n",
    "\n",
    "def converte_tokens_treino(lista_tokens, dic, fracao_valida = 0.2, fracao_teste = 0.2, tamanho_frase=256):\n",
    "    dados = np.zeros((len(lista_tokens), tamanho_frase), dtype='int16')\n",
    "    for i, tks in enumerate(lista_tokens):\n",
    "        compri = min(tamanho_frase, len(tks))\n",
    "        dados[i, :compri] = [(dic.get(tks[i]) or 1) for i in range(compri)]\n",
    "    quant_valida = int(fracao_valida * len(lista_tokens))\n",
    "    quant_teste = int(fracao_teste * len(lista_tokens))\n",
    "    return dados[:-quant_valida-quant_teste], dados[-quant_valida-quant_teste:-quant_teste], dados[-quant_teste:]"
   ]
  },
  {
   "cell_type": "code",
   "execution_count": null,
   "metadata": {},
   "outputs": [],
   "source": [
    "unlabelled_words, _ = ler_csv_texto_tokenizado('data/pretrain/moodle_pretrain.csv', nlp.tokenizer)\n",
    "story_words, story_points = ler_csv_texto_tokenizado('data/train/moodle.csv', nlp.tokenizer)\n",
    "dic = gerar_dicionario(unlabelled_words + story_words)\n",
    "\n",
    "#treino, validacao = converte_tokens_pretreino(a, dic)\n",
    "pretrain_tokens = converte_tokens_pretreino(unlabelled_words + story_words, dic)\n",
    "print('Vocabulario: ', len(dic), '\\nTreino: ', len(pretrain_tokens))#, '\\n Validação: ', len(validacao))"
   ]
  },
  {
   "cell_type": "code",
   "execution_count": null,
   "metadata": {},
   "outputs": [],
   "source": [
    "num_test = int(round(len(story_words) * test_fraction))\n",
    "num_val = int(round(len(story_words) * val_fraction))\n",
    "num_train = len(story_words) - num_test - num_val"
   ]
  },
  {
   "cell_type": "code",
   "execution_count": null,
   "metadata": {},
   "outputs": [],
   "source": [
    "story_words, story_points = ler_csv_texto_tokenizado('data/train/moodle.csv', nlp.tokenizer)"
   ]
  },
  {
   "cell_type": "code",
   "execution_count": 352,
   "metadata": {},
   "outputs": [
    {
     "data": {
      "text/plain": [
       "9.3"
      ]
     },
     "execution_count": 352,
     "metadata": {},
     "output_type": "execute_result"
    }
   ],
   "source": [
    "np.mean(np.abs(np.median(story_points.clip(1, 40)[:800])- story_points.clip(1,40)[:800]))"
   ]
  },
  {
   "cell_type": "code",
   "execution_count": 347,
   "metadata": {},
   "outputs": [
    {
     "data": {
      "text/plain": [
       "1166"
      ]
     },
     "execution_count": 347,
     "metadata": {},
     "output_type": "execute_result"
    }
   ],
   "source": [
    "len(story_points)"
   ]
  },
  {
   "cell_type": "code",
   "execution_count": 232,
   "metadata": {},
   "outputs": [
    {
     "data": {
      "text/plain": [
       "(array([599., 184.,   0.,  68.,   0.,  14.,   0.,   1.,   0.,   2.]),\n",
       " array([ 1. ,  2.2,  3.4,  4.6,  5.8,  7. ,  8.2,  9.4, 10.6, 11.8, 13. ]),\n",
       " <a list of 10 Patch objects>)"
      ]
     },
     "execution_count": 232,
     "metadata": {},
     "output_type": "execute_result"
    },
    {
     "data": {
      "image/png": "[encoded data removed]",
      "text/plain": [
       "<Figure size 432x288 with 1 Axes>"
      ]
     },
     "metadata": {
      "needs_background": "light"
     },
     "output_type": "display_data"
    }
   ],
   "source": [
    "plt.hist(story_points)"
   ]
  },
  {
   "cell_type": "code",
   "execution_count": null,
   "metadata": {},
   "outputs": [],
   "source": [
    "p = converte_tokens_pretreino(story_words, dic)"
   ]
  },
  {
   "cell_type": "code",
   "execution_count": null,
   "metadata": {
    "scrolled": true
   },
   "outputs": [],
   "source": [
    "sum(np.sum(i==1) for i in p)/sum(np.sum(i>0) for i in p)"
   ]
  },
  {
   "cell_type": "code",
   "execution_count": null,
   "metadata": {},
   "outputs": [],
   "source": [
    "len(story_points)"
   ]
  },
  {
   "cell_type": "code",
   "execution_count": null,
   "metadata": {
    "scrolled": true
   },
   "outputs": [],
   "source": [
    "np.sum(story_points==1)/len(story_points)"
   ]
  },
  {
   "cell_type": "code",
   "execution_count": null,
   "metadata": {},
   "outputs": [],
   "source": [
    "np.median(np.clip(story_points[:num_train], 1, 40))"
   ]
  },
  {
   "cell_type": "code",
   "execution_count": null,
   "metadata": {},
   "outputs": [],
   "source": [
    "np.mean(np.abs(np.median(story_points[:num_train]) - story_points[num_train:num_train+num_val]))"
   ]
  },
  {
   "cell_type": "code",
   "execution_count": null,
   "metadata": {},
   "outputs": [],
   "source": [
    "np.mean(np.abs(np.median(np.clip(story_points[:num_train], 1, 40))-np.clip(story_points[-num_test-num_val:-num_test], 1, 40)))"
   ]
  },
  {
   "cell_type": "code",
   "execution_count": null,
   "metadata": {},
   "outputs": [],
   "source": [
    "np.mean(np.abs(np.median(np.clip(story_points[:num_train], 1, 40))-np.clip(story_points[-num_test-num_val:-num_test], 1, 40)))"
   ]
  },
  {
   "cell_type": "code",
   "execution_count": null,
   "metadata": {
    "scrolled": true
   },
   "outputs": [],
   "source": [
    "np.mean(np.abs(np.median(np.clip(story_points[:-num_test], 1, 40))-np.clip(story_points[-num_test:], 1, 40)))"
   ]
  },
  {
   "cell_type": "code",
   "execution_count": null,
   "metadata": {},
   "outputs": [],
   "source": [
    "story_points[num_train-4+num_val:-num_test]"
   ]
  },
  {
   "cell_type": "code",
   "execution_count": null,
   "metadata": {},
   "outputs": [],
   "source": [
    "story_points[:num_train].reshape((-1,1))"
   ]
  },
  {
   "cell_type": "code",
   "execution_count": null,
   "metadata": {},
   "outputs": [],
   "source": [
    "np.sum(story_points[:num_train])"
   ]
  },
  {
   "cell_type": "code",
   "execution_count": null,
   "metadata": {
    "scrolled": true
   },
   "outputs": [],
   "source": [
    "np.mean(np.abs(np.median(np.clip(story_points[num_train:],1,40))-np.clip(story_points[-num_test:],1,40)))"
   ]
  },
  {
   "cell_type": "code",
   "execution_count": 7,
   "metadata": {
    "scrolled": true
   },
   "outputs": [],
   "source": [
    "metrics = pd.DataFrame(columns=['Project', 'Median MAE', 'Median MdAE', 'Median SA', 'Mean MAE', 'Mean MdAE', 'Mean SA'])"
   ]
  },
  {
   "cell_type": "code",
   "execution_count": 47,
   "metadata": {},
   "outputs": [
    {
     "data": {
      "text/html": [
       "<div>\n",
       "<style scoped>\n",
       "    .dataframe tbody tr th:only-of-type {\n",
       "        vertical-align: middle;\n",
       "    }\n",
       "\n",
       "    .dataframe tbody tr th {\n",
       "        vertical-align: top;\n",
       "    }\n",
       "\n",
       "    .dataframe thead th {\n",
       "        text-align: right;\n",
       "    }\n",
       "</style>\n",
       "<table border=\"1\" class=\"dataframe\">\n",
       "  <thead>\n",
       "    <tr style=\"text-align: right;\">\n",
       "      <th></th>\n",
       "      <th>Median MAE</th>\n",
       "      <th>Median MdAE</th>\n",
       "      <th>Median SA</th>\n",
       "      <th>Mean MAE</th>\n",
       "      <th>Mean MdAE</th>\n",
       "      <th>Mean SA</th>\n",
       "    </tr>\n",
       "  </thead>\n",
       "  <tbody>\n",
       "    <tr>\n",
       "      <th>mesos</th>\n",
       "      <td>1.220238</td>\n",
       "      <td>1</td>\n",
       "      <td>44.637630</td>\n",
       "      <td>1.325255</td>\n",
       "      <td>1.169643</td>\n",
       "      <td>39.872994</td>\n",
       "    </tr>\n",
       "    <tr>\n",
       "      <th>usergrid</th>\n",
       "      <td>1.156250</td>\n",
       "      <td>1</td>\n",
       "      <td>16.827786</td>\n",
       "      <td>1.200291</td>\n",
       "      <td>0.823834</td>\n",
       "      <td>13.659765</td>\n",
       "    </tr>\n",
       "    <tr>\n",
       "      <th>appceleratorstudio</th>\n",
       "      <td>1.303082</td>\n",
       "      <td>0</td>\n",
       "      <td>58.958998</td>\n",
       "      <td>1.736270</td>\n",
       "      <td>0.776017</td>\n",
       "      <td>45.315611</td>\n",
       "    </tr>\n",
       "    <tr>\n",
       "      <th>aptanastudio</th>\n",
       "      <td>3.614458</td>\n",
       "      <td>3</td>\n",
       "      <td>38.242540</td>\n",
       "      <td>3.749587</td>\n",
       "      <td>3.215686</td>\n",
       "      <td>35.933699</td>\n",
       "    </tr>\n",
       "    <tr>\n",
       "      <th>titanium</th>\n",
       "      <td>2.040000</td>\n",
       "      <td>2</td>\n",
       "      <td>58.096886</td>\n",
       "      <td>2.869327</td>\n",
       "      <td>1.581344</td>\n",
       "      <td>41.061895</td>\n",
       "    </tr>\n",
       "    <tr>\n",
       "      <th>duracloud</th>\n",
       "      <td>0.796992</td>\n",
       "      <td>1</td>\n",
       "      <td>50.824920</td>\n",
       "      <td>0.908731</td>\n",
       "      <td>1.210131</td>\n",
       "      <td>43.930591</td>\n",
       "    </tr>\n",
       "    <tr>\n",
       "      <th>bamboo</th>\n",
       "      <td>0.759615</td>\n",
       "      <td>1</td>\n",
       "      <td>55.993298</td>\n",
       "      <td>1.068553</td>\n",
       "      <td>1.000000</td>\n",
       "      <td>38.095664</td>\n",
       "    </tr>\n",
       "    <tr>\n",
       "      <th>clover</th>\n",
       "      <td>3.636364</td>\n",
       "      <td>1</td>\n",
       "      <td>27.792191</td>\n",
       "      <td>4.383857</td>\n",
       "      <td>3.498371</td>\n",
       "      <td>12.949101</td>\n",
       "    </tr>\n",
       "    <tr>\n",
       "      <th>jirasoftware</th>\n",
       "      <td>1.571429</td>\n",
       "      <td>1</td>\n",
       "      <td>53.752355</td>\n",
       "      <td>2.093009</td>\n",
       "      <td>1.617021</td>\n",
       "      <td>38.402073</td>\n",
       "    </tr>\n",
       "    <tr>\n",
       "      <th>moodle</th>\n",
       "      <td>6.459227</td>\n",
       "      <td>5</td>\n",
       "      <td>64.331715</td>\n",
       "      <td>12.895712</td>\n",
       "      <td>14.647374</td>\n",
       "      <td>28.789017</td>\n",
       "    </tr>\n",
       "    <tr>\n",
       "      <th>datamanagement</th>\n",
       "      <td>6.195070</td>\n",
       "      <td>3</td>\n",
       "      <td>49.758451</td>\n",
       "      <td>8.271432</td>\n",
       "      <td>6.894483</td>\n",
       "      <td>32.919306</td>\n",
       "    </tr>\n",
       "    <tr>\n",
       "      <th>mule</th>\n",
       "      <td>2.466292</td>\n",
       "      <td>3</td>\n",
       "      <td>32.848817</td>\n",
       "      <td>2.560747</td>\n",
       "      <td>2.804501</td>\n",
       "      <td>30.277043</td>\n",
       "    </tr>\n",
       "    <tr>\n",
       "      <th>mulestudio</th>\n",
       "      <td>3.582192</td>\n",
       "      <td>3</td>\n",
       "      <td>28.018708</td>\n",
       "      <td>3.754944</td>\n",
       "      <td>1.738908</td>\n",
       "      <td>24.547388</td>\n",
       "    </tr>\n",
       "    <tr>\n",
       "      <th>springxd</th>\n",
       "      <td>1.714894</td>\n",
       "      <td>2</td>\n",
       "      <td>41.439170</td>\n",
       "      <td>2.026356</td>\n",
       "      <td>1.804325</td>\n",
       "      <td>30.803253</td>\n",
       "    </tr>\n",
       "    <tr>\n",
       "      <th>talenddataquality</th>\n",
       "      <td>3.297101</td>\n",
       "      <td>3</td>\n",
       "      <td>35.531098</td>\n",
       "      <td>4.445596</td>\n",
       "      <td>4.553846</td>\n",
       "      <td>13.074340</td>\n",
       "    </tr>\n",
       "    <tr>\n",
       "      <th>talendesb</th>\n",
       "      <td>0.908046</td>\n",
       "      <td>1</td>\n",
       "      <td>35.603950</td>\n",
       "      <td>0.997681</td>\n",
       "      <td>1.190202</td>\n",
       "      <td>29.247269</td>\n",
       "    </tr>\n",
       "  </tbody>\n",
       "</table>\n",
       "</div>"
      ],
      "text/plain": [
       "                    Median MAE  Median MdAE  Median SA   Mean MAE  Mean MdAE  \\\n",
       "mesos                 1.220238            1  44.637630   1.325255   1.169643   \n",
       "usergrid              1.156250            1  16.827786   1.200291   0.823834   \n",
       "appceleratorstudio    1.303082            0  58.958998   1.736270   0.776017   \n",
       "aptanastudio          3.614458            3  38.242540   3.749587   3.215686   \n",
       "titanium              2.040000            2  58.096886   2.869327   1.581344   \n",
       "duracloud             0.796992            1  50.824920   0.908731   1.210131   \n",
       "bamboo                0.759615            1  55.993298   1.068553   1.000000   \n",
       "clover                3.636364            1  27.792191   4.383857   3.498371   \n",
       "jirasoftware          1.571429            1  53.752355   2.093009   1.617021   \n",
       "moodle                6.459227            5  64.331715  12.895712  14.647374   \n",
       "datamanagement        6.195070            3  49.758451   8.271432   6.894483   \n",
       "mule                  2.466292            3  32.848817   2.560747   2.804501   \n",
       "mulestudio            3.582192            3  28.018708   3.754944   1.738908   \n",
       "springxd              1.714894            2  41.439170   2.026356   1.804325   \n",
       "talenddataquality     3.297101            3  35.531098   4.445596   4.553846   \n",
       "talendesb             0.908046            1  35.603950   0.997681   1.190202   \n",
       "\n",
       "                      Mean SA  \n",
       "mesos               39.872994  \n",
       "usergrid            13.659765  \n",
       "appceleratorstudio  45.315611  \n",
       "aptanastudio        35.933699  \n",
       "titanium            41.061895  \n",
       "duracloud           43.930591  \n",
       "bamboo              38.095664  \n",
       "clover              12.949101  \n",
       "jirasoftware        38.402073  \n",
       "moodle              28.789017  \n",
       "datamanagement      32.919306  \n",
       "mule                30.277043  \n",
       "mulestudio          24.547388  \n",
       "springxd            30.803253  \n",
       "talenddataquality   13.074340  \n",
       "talendesb           29.247269  "
      ]
     },
     "execution_count": 47,
     "metadata": {},
     "output_type": "execute_result"
    }
   ],
   "source": [
    "table"
   ]
  },
  {
   "cell_type": "code",
   "execution_count": 342,
   "metadata": {},
   "outputs": [],
   "source": [
    "ccasj = pd.read_csv('dados/treino/ccasj.csv')"
   ]
  },
  {
   "cell_type": "code",
   "execution_count": 484,
   "metadata": {},
   "outputs": [
    {
     "data": {
      "text/plain": [
       "4.496104928228075"
      ]
     },
     "execution_count": 484,
     "metadata": {},
     "output_type": "execute_result"
    }
   ],
   "source": [
    "v = ccasj.storypoint.values\n",
    "t = int(len(v)*0.2)\n",
    "np.mean(np.abs(np.median(v[:-2*t])-v[-t:].clip(1,21)))"
   ]
  },
  {
   "cell_type": "code",
   "execution_count": 483,
   "metadata": {},
   "outputs": [
    {
     "data": {
      "text/plain": [
       "1.5"
      ]
     },
     "execution_count": 483,
     "metadata": {},
     "output_type": "execute_result"
    }
   ],
   "source": [
    "np.median(v[:-2*t].clip(1,21))"
   ]
  },
  {
   "cell_type": "code",
   "execution_count": 482,
   "metadata": {},
   "outputs": [
    {
     "data": {
      "text/plain": [
       "8.198585055194002"
      ]
     },
     "execution_count": 482,
     "metadata": {},
     "output_type": "execute_result"
    }
   ],
   "source": [
    "np.mean(v[-t:])"
   ]
  },
  {
   "cell_type": "code",
   "execution_count": 343,
   "metadata": {},
   "outputs": [
    {
     "data": {
      "text/plain": [
       "316.0"
      ]
     },
     "execution_count": 343,
     "metadata": {},
     "output_type": "execute_result"
    }
   ],
   "source": [
    "ccasj.storypoint.max()"
   ]
  },
  {
   "cell_type": "code",
   "execution_count": 159,
   "metadata": {},
   "outputs": [],
   "source": [
    "ccasjp = pd.read_csv('dados/pretreino/ccasj.csv')"
   ]
  },
  {
   "cell_type": "code",
   "execution_count": 165,
   "metadata": {},
   "outputs": [
    {
     "data": {
      "text/plain": [
       "17304.877003407106"
      ]
     },
     "execution_count": 165,
     "metadata": {},
     "output_type": "execute_result"
    }
   ],
   "source": [
    "xp = ccasjp.estimated_hours.values\n",
    "n = int(len(xp)*0.2)\n",
    "np.sum(xp)"
   ]
  },
  {
   "cell_type": "code",
   "execution_count": 166,
   "metadata": {},
   "outputs": [
    {
     "data": {
      "text/plain": [
       "0.36788392565928263"
      ]
     },
     "execution_count": 166,
     "metadata": {},
     "output_type": "execute_result"
    }
   ],
   "source": [
    "np.mean(np.abs(np.median(xp[:-n])-xp[-n:]))"
   ]
  },
  {
   "cell_type": "code",
   "execution_count": 90,
   "metadata": {
    "scrolled": true
   },
   "outputs": [
    {
     "data": {
      "text/plain": [
       "316.0"
      ]
     },
     "execution_count": 90,
     "metadata": {},
     "output_type": "execute_result"
    }
   ],
   "source": [
    "ccasj.estimated_hours.max()"
   ]
  },
  {
   "cell_type": "code",
   "execution_count": 103,
   "metadata": {},
   "outputs": [],
   "source": [
    "ccasj.estimated_hours.hist?"
   ]
  },
  {
   "cell_type": "code",
   "execution_count": 111,
   "metadata": {},
   "outputs": [
    {
     "data": {
      "text/plain": [
       "<matplotlib.axes._subplots.AxesSubplot at 0x7f9d1dd174e0>"
      ]
     },
     "execution_count": 111,
     "metadata": {},
     "output_type": "execute_result"
    },
    {
     "data": {
      "image/png": "[encoded data removed]",
      "text/plain": [
       "<Figure size 432x288 with 1 Axes>"
      ]
     },
     "metadata": {
      "needs_background": "light"
     },
     "output_type": "display_data"
    }
   ],
   "source": [
    "ccasj.estimated_hours.hist(bins=40, normed=True)"
   ]
  },
  {
   "cell_type": "code",
   "execution_count": 110,
   "metadata": {
    "scrolled": false
   },
   "outputs": [
    {
     "data": {
      "text/plain": [
       "<matplotlib.axes._subplots.AxesSubplot at 0x7f9d1ddd59b0>"
      ]
     },
     "execution_count": 110,
     "metadata": {},
     "output_type": "execute_result"
    },
    {
     "data": {
      "image/png": "[encoded data removed]",
      "text/plain": [
       "<Figure size 432x288 with 1 Axes>"
      ]
     },
     "metadata": {
      "needs_background": "light"
     },
     "output_type": "display_data"
    }
   ],
   "source": [
    "ccasj.estimated_hours.hist(bins=range(40), normed=True)"
   ]
  },
  {
   "cell_type": "code",
   "execution_count": 127,
   "metadata": {},
   "outputs": [
    {
     "data": {
      "text/plain": [
       "41"
      ]
     },
     "execution_count": 127,
     "metadata": {},
     "output_type": "execute_result"
    }
   ],
   "source": [
    "np.sum(ccasj.estimated_hours.values>50)"
   ]
  },
  {
   "cell_type": "code",
   "execution_count": 131,
   "metadata": {},
   "outputs": [
    {
     "data": {
      "text/plain": [
       "0.009999999776482582"
      ]
     },
     "execution_count": 131,
     "metadata": {},
     "output_type": "execute_result"
    }
   ],
   "source": [
    "ccasj.estimated_hours.min()"
   ]
  },
  {
   "cell_type": "code",
   "execution_count": 134,
   "metadata": {},
   "outputs": [
    {
     "data": {
      "text/plain": [
       "array([9.99999978e-03, 1.08738775e-02, 1.18241214e-02, 1.28574050e-02,\n",
       "       1.39809849e-02, 1.52027521e-02, 1.65312867e-02, 1.79759190e-02,\n",
       "       1.95467944e-02, 2.12549452e-02, 2.31123675e-02, 2.51321058e-02,\n",
       "       2.73283445e-02, 2.97165076e-02, 3.23133670e-02, 3.51371601e-02,\n",
       "       3.82077182e-02, 4.15466055e-02, 4.51772707e-02, 4.91252117e-02,\n",
       "       5.34181544e-02, 5.80862479e-02, 6.31622756e-02, 6.86818861e-02,\n",
       "       7.46838430e-02, 8.12102975e-02, 8.83070844e-02, 9.60240437e-02,\n",
       "       1.04415371e-01, 1.13539997e-01, 1.23462005e-01, 1.34251074e-01,\n",
       "       1.45982976e-01, 1.58740103e-01, 1.72612047e-01, 1.87696229e-01,\n",
       "       2.04098584e-01, 2.21934304e-01, 2.41328648e-01, 2.62417820e-01,\n",
       "       2.85349929e-01, 3.10286023e-01, 3.37401227e-01, 3.66885968e-01,\n",
       "       3.98947315e-01, 4.33810431e-01, 4.71720158e-01, 5.12942731e-01,\n",
       "       5.57767653e-01, 6.06509725e-01, 6.59511257e-01, 7.17144476e-01,\n",
       "       7.79814133e-01, 8.47960352e-01, 9.22061717e-01, 1.00263863e+00,\n",
       "       1.09025699e+00, 1.18553212e+00, 1.28913313e+00, 1.40178760e+00,\n",
       "       1.52428669e+00, 1.65749071e+00, 1.80233512e+00, 1.95983717e+00,\n",
       "       2.13110298e+00, 2.31733531e+00, 2.51984208e+00, 2.74004546e+00,\n",
       "       2.97949193e+00, 3.23986309e+00, 3.52298750e+00, 3.83085352e+00,\n",
       "       4.16562327e+00, 4.52964780e+00, 4.92548363e+00, 5.35591066e+00,\n",
       "       5.82395176e+00, 6.33289392e+00, 6.88631140e+00, 7.48809080e+00,\n",
       "       8.14245837e+00, 8.85400965e+00, 9.62774182e+00, 1.04690887e+01,\n",
       "       1.13839590e+01, 1.23787778e+01, 1.34605316e+01, 1.46368175e+01,\n",
       "       1.59158964e+01, 1.73067511e+01, 1.88191495e+01, 2.04637130e+01,\n",
       "       2.22519912e+01, 2.41965431e+01, 2.63110251e+01, 2.86102869e+01,\n",
       "       3.11104761e+01, 3.38291513e+01, 3.67854054e+01, 4.00000000e+01])"
      ]
     },
     "execution_count": 134,
     "metadata": {},
     "output_type": "execute_result"
    }
   ],
   "source": [
    "np.logspace(np.log10(ccasj.estimated_hours.min()), np.log10(40), 100)"
   ]
  },
  {
   "cell_type": "code",
   "execution_count": 149,
   "metadata": {},
   "outputs": [],
   "source": [
    "y = ccasj.estimated_hours.values\n",
    "t = int(len(y)*0.2)"
   ]
  },
  {
   "cell_type": "code",
   "execution_count": 150,
   "metadata": {},
   "outputs": [
    {
     "data": {
      "text/plain": [
       "7.425898250310855"
      ]
     },
     "execution_count": 150,
     "metadata": {},
     "output_type": "execute_result"
    }
   ],
   "source": [
    "np.mean(np.abs(np.median(y[:-t])-y[-t:]))"
   ]
  },
  {
   "cell_type": "code",
   "execution_count": 153,
   "metadata": {},
   "outputs": [
    {
     "data": {
      "text/plain": [
       "0.05000000074505806"
      ]
     },
     "execution_count": 153,
     "metadata": {},
     "output_type": "execute_result"
    }
   ],
   "source": [
    "y[-t:].min()"
   ]
  },
  {
   "cell_type": "code",
   "execution_count": 146,
   "metadata": {
    "scrolled": true
   },
   "outputs": [
    {
     "data": {
      "text/plain": [
       "2.0"
      ]
     },
     "execution_count": 146,
     "metadata": {},
     "output_type": "execute_result"
    }
   ],
   "source": [
    "ccasj.estimated_hours.median()"
   ]
  },
  {
   "cell_type": "code",
   "execution_count": 472,
   "metadata": {},
   "outputs": [],
   "source": [
    "kde = sm.nonparametric.KDEUnivariate(np.log(ccasj.storypoint.values))\n",
    "kde.fit(bw=0.5)#(kernel='triw', bw=2, fft=False)\n",
    "e = np.exp(kde.support)\n",
    "w = e<30\n",
    "ew = e[w]"
   ]
  },
  {
   "cell_type": "code",
   "execution_count": 400,
   "metadata": {},
   "outputs": [],
   "source": [
    "w = np.exp(kde.support)<49\n",
    "ew = np.exp(kde.support[w])"
   ]
  },
  {
   "cell_type": "code",
   "execution_count": 364,
   "metadata": {
    "scrolled": true
   },
   "outputs": [
    {
     "data": {
      "text/plain": [
       "0.014294790343074968"
      ]
     },
     "execution_count": 364,
     "metadata": {},
     "output_type": "execute_result"
    }
   ],
   "source": [
    "np.sum(ccasj.storypoint.values>49)/np.sum(ccasj.storypoint.values>0)"
   ]
  },
  {
   "cell_type": "code",
   "execution_count": 265,
   "metadata": {},
   "outputs": [],
   "source": [
    "plt.style.use('seaborn-whitegrid')"
   ]
  },
  {
   "cell_type": "code",
   "execution_count": 378,
   "metadata": {},
   "outputs": [],
   "source": [
    "sns.set_style(\"whitegrid\")"
   ]
  },
  {
   "cell_type": "code",
   "execution_count": 454,
   "metadata": {},
   "outputs": [
    {
     "data": {
      "text/plain": [
       "array([ 0. ,  0.5,  1. ,  1.5,  2. ,  2.5,  3. ,  3.5,  4. ,  4.5,  5. ,\n",
       "        5.5,  6. ,  6.5,  7. ,  7.5,  8. ,  8.5,  9. ,  9.5, 10. , 10.5,\n",
       "       11. , 11.5, 12. , 12.5, 13. , 13.5, 14. , 14.5, 15. , 15.5, 16. ,\n",
       "       16.5, 17. , 17.5, 18. , 18.5, 19. , 19.5, 20. , 20.5, 21. , 21.5,\n",
       "       22. , 22.5, 23. , 23.5, 24. , 24.5, 25. ])"
      ]
     },
     "execution_count": 454,
     "metadata": {},
     "output_type": "execute_result"
    }
   ],
   "source": [
    "np.linspace(0,25,51)"
   ]
  },
  {
   "cell_type": "code",
   "execution_count": 475,
   "metadata": {},
   "outputs": [
    {
     "data": {
      "image/png": "[encoded data removed]",
      "text/plain": [
       "<Figure size 1600x1000 with 1 Axes>"
      ]
     },
     "metadata": {},
     "output_type": "display_data"
    }
   ],
   "source": [
    "figura = plt.figure(figsize=(8, 5), dpi=200)\n",
    "plt.xlabel(\"Story Points\")\n",
    "plt.ylabel(\"Frequency\")\n",
    "plt.title(\"CCA-SJ Dataset\")\n",
    "#sns.distplot(ccasj.estimated_hours.values, bins=np.linspace(0,49), kde=False)\n",
    "plt.hist(ccasj.storypoint.values, bins=50, range=(0, 30), density=True)\n",
    "#ccasj.estimated_hours.hist(bins=np.linspace(0,49,), normed=True)\n",
    "#ccasj.estimated_hours.dropna().plot.kde(bw_method=0.01,xlim=(0,40), style='r--')\n",
    "#x = np.linspace(ccasj.estimated_hours.min(), 40, 100)\n",
    "plt.plot(ew, kde.density[w]/ew, linestyle='dashed')\n",
    "#plt.plot(x, pareto_d2_eval(x, ccasj.estimated_hours.values, 10), linestyle='dashed')\n",
    "#plt.plot(x, halfnorm.pdf(x, *halfnorm.fit(ccasj.estimated_hours.values)))\n",
    "#plt.plot(x, chi.pdf(x, *chi.fit(ccasj.estimated_hours.values, 2)))\n",
    "plt.show()\n",
    "figura.savefig(\"reports/figures/ccasj.pdf\", bbox_inches='tight')"
   ]
  },
  {
   "cell_type": "code",
   "execution_count": 477,
   "metadata": {},
   "outputs": [
    {
     "data": {
      "text/plain": [
       "<matplotlib.axes._subplots.AxesSubplot at 0x7f9d1c70c668>"
      ]
     },
     "execution_count": 477,
     "metadata": {},
     "output_type": "execute_result"
    },
    {
     "data": {
      "image/png": "[encoded data removed]",
      "text/plain": [
       "<Figure size 432x288 with 1 Axes>"
      ]
     },
     "metadata": {},
     "output_type": "display_data"
    }
   ],
   "source": [
    "#sns.kdeplot(ccasj.estimated_hours.values)\n",
    "sns.distplot(ccasj.storypoint.values)"
   ]
  },
  {
   "cell_type": "code",
   "execution_count": 238,
   "metadata": {},
   "outputs": [],
   "source": [
    "plt.hist?"
   ]
  },
  {
   "cell_type": "code",
   "execution_count": 264,
   "metadata": {},
   "outputs": [
    {
     "data": {
      "text/plain": [
       "(array([0.01839579, 0.        , 0.        , 0.        , 0.        ,\n",
       "        0.        , 0.        , 0.00613193, 0.        , 0.        ,\n",
       "        0.00613193, 0.17629302, 0.        , 0.03219264, 0.09964388,\n",
       "        0.13796845, 0.0536544 , 0.03985755, 0.61932505, 0.01839579,\n",
       "        0.04139054, 0.01379685, 0.86153633, 0.0444565 , 0.15636424,\n",
       "        0.52734608, 0.09504493, 0.34185516, 0.29586568, 0.17935899,\n",
       "        0.15329828, 0.09197897, 0.14869933, 0.10424283, 0.13643547,\n",
       "        0.088913  , 0.09504493, 0.05978633, 0.04905545, 0.03985755,\n",
       "        0.02452772, 0.02606071, 0.01686281, 0.00613193, 0.00306597,\n",
       "        0.00613193, 0.00153298, 0.00613193, 0.        , 0.00306597]),\n",
       " array([-4.60517021, -4.39795196, -4.19073371, -3.98351546, -3.77629721,\n",
       "        -3.56907897, -3.36186072, -3.15464247, -2.94742422, -2.74020597,\n",
       "        -2.53298772, -2.32576948, -2.11855123, -1.91133298, -1.70411473,\n",
       "        -1.49689648, -1.28967823, -1.08245998, -0.87524174, -0.66802349,\n",
       "        -0.46080524, -0.25358699, -0.04636874,  0.16084951,  0.36806775,\n",
       "         0.575286  ,  0.78250425,  0.9897225 ,  1.19694075,  1.404159  ,\n",
       "         1.61137724,  1.81859549,  2.02581374,  2.23303199,  2.44025024,\n",
       "         2.64746849,  2.85468674,  3.06190498,  3.26912323,  3.47634148,\n",
       "         3.68355973,  3.89077798,  4.09799623,  4.30521447,  4.51243272,\n",
       "         4.71965097,  4.92686922,  5.13408747,  5.34130572,  5.54852397,\n",
       "         5.75574221]),\n",
       " <a list of 50 Patch objects>)"
      ]
     },
     "execution_count": 264,
     "metadata": {},
     "output_type": "execute_result"
    },
    {
     "data": {
      "image/png": "[encoded data removed]",
      "text/plain": [
       "<Figure size 432x288 with 1 Axes>"
      ]
     },
     "metadata": {
      "needs_background": "light"
     },
     "output_type": "display_data"
    }
   ],
   "source": [
    "plt.hist(np.log(ccasj.estimated_hours.values), bins=50, density=True)"
   ]
  },
  {
   "cell_type": "code",
   "execution_count": 188,
   "metadata": {},
   "outputs": [
    {
     "data": {
      "text/plain": [
       "(0.35982783033447885, 0.00999999977648258, 20.81692326187909)"
      ]
     },
     "execution_count": 188,
     "metadata": {},
     "output_type": "execute_result"
    }
   ],
   "source": [
    "chi.fit(ccasj.estimated_hours.values)"
   ]
  },
  {
   "cell_type": "code",
   "execution_count": 184,
   "metadata": {},
   "outputs": [],
   "source": [
    "chi.fit?"
   ]
  },
  {
   "cell_type": "code",
   "execution_count": 181,
   "metadata": {},
   "outputs": [],
   "source": [
    "from scipy.stats import halfnorm, chi"
   ]
  },
  {
   "cell_type": "code",
   "execution_count": 170,
   "metadata": {},
   "outputs": [
    {
     "data": {
      "text/plain": [
       "(0.009999998753642518, 15.526912508624891)"
      ]
     },
     "execution_count": 170,
     "metadata": {},
     "output_type": "execute_result"
    }
   ],
   "source": [
    "halfnorm.fit(ccasj.estimated_hours.values)"
   ]
  },
  {
   "cell_type": "code",
   "execution_count": 144,
   "metadata": {},
   "outputs": [
    {
     "data": {
      "text/plain": [
       "array([33.57047525, 34.06261304, 34.55475084, 35.04688863, 35.53902643,\n",
       "       36.03116422, 36.52330201, 37.01543981, 37.5075776 , 37.99971539,\n",
       "       38.49185319, 38.98399098, 39.47612878, 39.96826657, 40.46040436,\n",
       "       40.95254216, 41.44467995, 41.93681774, 42.42895554, 42.92109333,\n",
       "       43.41323113, 43.90536892, 44.39750671, 44.88964451, 45.3817823 ,\n",
       "       45.87392009, 46.36605789, 46.85819568, 47.35033348, 47.84247127,\n",
       "       48.33460906, 48.82674686, 49.31888465, 49.81102244, 50.30316024,\n",
       "       50.79529803, 51.28743582, 51.77957362, 52.27171141, 52.76384921,\n",
       "       53.255987  , 53.74812479, 54.24026259, 54.73240038, 55.22453817,\n",
       "       55.71667597, 56.20881376, 56.70095156, 57.19308935, 57.68522714,\n",
       "       58.17736494, 58.66950273, 59.16164052, 59.65377832, 60.14591611,\n",
       "       60.63805391, 61.1301917 , 61.62232949, 62.11446729, 62.60660508,\n",
       "       63.09874287, 63.59088067, 64.08301846, 64.57515626, 65.06729405,\n",
       "       65.55943184, 66.05156964, 66.54370743, 67.03584522, 67.52798302,\n",
       "       68.02012081, 68.51225861, 69.0043964 , 69.49653419, 69.98867199,\n",
       "       70.48080978, 70.97294757, 71.46508537, 71.95722316, 72.44936095,\n",
       "       72.94149875, 73.43363654, 73.92577434, 74.41791213, 74.91004992,\n",
       "       75.40218772, 75.89432551, 76.3864633 , 76.8786011 , 77.37073889,\n",
       "       77.86287669, 78.35501448, 78.84715227, 79.33929007, 79.83142786,\n",
       "       80.32356565, 80.81570345, 81.30784124, 81.79997904, 82.29211683])"
      ]
     },
     "execution_count": 144,
     "metadata": {},
     "output_type": "execute_result"
    }
   ],
   "source": []
  },
  {
   "cell_type": "code",
   "execution_count": 337,
   "metadata": {
    "scrolled": false
   },
   "outputs": [
    {
     "name": "stdout",
     "output_type": "stream",
     "text": [
      "\\begin{tabular}{lrrr}\n",
      "\\toprule\n",
      "{} &  Median MAE &  Median MdAE &  Median SA \\\\\n",
      "\\midrule\n",
      "mesos              &        1.11 &         0.78 &      27.78 \\\\\n",
      "usergrid           &        1.09 &         0.76 &      19.48 \\\\\n",
      "appceleratorstudio &        1.43 &         0.28 &      37.14 \\\\\n",
      "aptanastudio       &        3.01 &         2.45 &      30.80 \\\\\n",
      "titanium           &        2.46 &         2.03 &      32.25 \\\\\n",
      "duracloud          &        0.72 &         0.87 &      29.65 \\\\\n",
      "bamboo             &        0.93 &         1.00 &      25.90 \\\\\n",
      "clover             &        2.80 &         2.93 &      21.27 \\\\\n",
      "jirasoftware       &        1.67 &         1.13 &      31.43 \\\\\n",
      "moodle             &       10.32 &        11.14 &      14.84 \\\\\n",
      "datamanagement     &        4.81 &         4.55 &      25.12 \\\\\n",
      "mule               &        2.21 &         2.77 &      24.56 \\\\\n",
      "mulestudio         &        3.24 &         2.30 &      22.03 \\\\\n",
      "springxd           &        1.89 &         1.53 &      22.82 \\\\\n",
      "talenddataquality  &        3.93 &         4.08 &      11.75 \\\\\n",
      "talendesb          &        0.71 &         0.91 &      21.66 \\\\\n",
      "\\bottomrule\n",
      "\\end{tabular}\n",
      "\n"
     ]
    }
   ],
   "source": [
    "print(table[['Median MAE', 'Median MdAE', 'Median SA']].to_latex())"
   ]
  },
  {
   "cell_type": "code",
   "execution_count": null,
   "metadata": {},
   "outputs": [],
   "source": []
  },
  {
   "cell_type": "code",
   "execution_count": 336,
   "metadata": {},
   "outputs": [
    {
     "name": "stdout",
     "output_type": "stream",
     "text": [
      "\\begin{tabular}{lrrr}\n",
      "\\toprule\n",
      "{} &  Mean MAE &  Mean MdAE &  Mean SA \\\\\n",
      "\\midrule\n",
      "mesos              &      1.12 &       1.00 &    27.61 \\\\\n",
      "usergrid           &      1.03 &       1.00 &    23.88 \\\\\n",
      "appceleratorstudio &      1.28 &       0.00 &    43.98 \\\\\n",
      "aptanastudio       &      3.08 &       3.00 &    29.13 \\\\\n",
      "titanium           &      1.95 &       2.00 &    46.24 \\\\\n",
      "duracloud          &      0.74 &       1.00 &    27.72 \\\\\n",
      "bamboo             &      0.76 &       1.00 &    39.44 \\\\\n",
      "clover             &      2.31 &       1.00 &    35.02 \\\\\n",
      "jirasoftware       &      1.36 &       1.00 &    44.29 \\\\\n",
      "moodle             &      6.46 &       5.00 &    46.71 \\\\\n",
      "datamanagement     &      4.28 &       3.00 &    33.44 \\\\\n",
      "mule               &      2.20 &       3.00 &    25.17 \\\\\n",
      "mulestudio         &      3.14 &       3.00 &    24.34 \\\\\n",
      "springxd           &      1.68 &       2.00 &    31.24 \\\\\n",
      "talenddataquality  &      3.13 &       3.00 &    29.74 \\\\\n",
      "talendesb          &      0.70 &       1.00 &    23.06 \\\\\n",
      "\\bottomrule\n",
      "\\end{tabular}\n",
      "\n"
     ]
    }
   ],
   "source": [
    "table[['Project', 'Mean MAE', 'Mean MdAE', 'Mean SA']].to_latex()"
   ]
  },
  {
   "cell_type": "code",
   "execution_count": 500,
   "metadata": {},
   "outputs": [
    {
     "data": {
      "text/html": [
       "<div>\n",
       "<style scoped>\n",
       "    .dataframe tbody tr th:only-of-type {\n",
       "        vertical-align: middle;\n",
       "    }\n",
       "\n",
       "    .dataframe tbody tr th {\n",
       "        vertical-align: top;\n",
       "    }\n",
       "\n",
       "    .dataframe thead th {\n",
       "        text-align: right;\n",
       "    }\n",
       "</style>\n",
       "<table border=\"1\" class=\"dataframe\">\n",
       "  <thead>\n",
       "    <tr style=\"text-align: right;\">\n",
       "      <th></th>\n",
       "      <th>Project</th>\n",
       "      <th>Mean MAE</th>\n",
       "      <th>Mean MdAE</th>\n",
       "      <th>Mean SA</th>\n",
       "      <th>Median MAE</th>\n",
       "      <th>Median MdAE</th>\n",
       "      <th>Median SA</th>\n",
       "    </tr>\n",
       "  </thead>\n",
       "  <tbody>\n",
       "    <tr>\n",
       "      <th>mesos</th>\n",
       "      <td>Mesos</td>\n",
       "      <td>1.11</td>\n",
       "      <td>0.78</td>\n",
       "      <td>27.78</td>\n",
       "      <td>1.12</td>\n",
       "      <td>1.00</td>\n",
       "      <td>27.61</td>\n",
       "    </tr>\n",
       "    <tr>\n",
       "      <th>usergrid</th>\n",
       "      <td>Usergrid</td>\n",
       "      <td>1.09</td>\n",
       "      <td>0.76</td>\n",
       "      <td>19.48</td>\n",
       "      <td>1.03</td>\n",
       "      <td>1.00</td>\n",
       "      <td>23.88</td>\n",
       "    </tr>\n",
       "    <tr>\n",
       "      <th>appceleratorstudio</th>\n",
       "      <td>Appcelerator Studio</td>\n",
       "      <td>1.43</td>\n",
       "      <td>0.28</td>\n",
       "      <td>37.14</td>\n",
       "      <td>1.28</td>\n",
       "      <td>0.00</td>\n",
       "      <td>43.98</td>\n",
       "    </tr>\n",
       "    <tr>\n",
       "      <th>aptanastudio</th>\n",
       "      <td>Aptana Studio</td>\n",
       "      <td>3.01</td>\n",
       "      <td>2.45</td>\n",
       "      <td>30.80</td>\n",
       "      <td>3.08</td>\n",
       "      <td>3.00</td>\n",
       "      <td>29.13</td>\n",
       "    </tr>\n",
       "    <tr>\n",
       "      <th>titanium</th>\n",
       "      <td>Titanium SDK/CLI</td>\n",
       "      <td>2.46</td>\n",
       "      <td>2.03</td>\n",
       "      <td>32.25</td>\n",
       "      <td>1.95</td>\n",
       "      <td>2.00</td>\n",
       "      <td>46.24</td>\n",
       "    </tr>\n",
       "    <tr>\n",
       "      <th>duracloud</th>\n",
       "      <td>DuraCloud</td>\n",
       "      <td>0.72</td>\n",
       "      <td>0.87</td>\n",
       "      <td>29.65</td>\n",
       "      <td>0.74</td>\n",
       "      <td>1.00</td>\n",
       "      <td>27.72</td>\n",
       "    </tr>\n",
       "    <tr>\n",
       "      <th>bamboo</th>\n",
       "      <td>Bamboo</td>\n",
       "      <td>0.93</td>\n",
       "      <td>1.00</td>\n",
       "      <td>25.90</td>\n",
       "      <td>0.76</td>\n",
       "      <td>1.00</td>\n",
       "      <td>39.44</td>\n",
       "    </tr>\n",
       "    <tr>\n",
       "      <th>clover</th>\n",
       "      <td>Clover</td>\n",
       "      <td>2.80</td>\n",
       "      <td>2.93</td>\n",
       "      <td>21.27</td>\n",
       "      <td>2.31</td>\n",
       "      <td>1.00</td>\n",
       "      <td>35.02</td>\n",
       "    </tr>\n",
       "    <tr>\n",
       "      <th>jirasoftware</th>\n",
       "      <td>Jira Software</td>\n",
       "      <td>1.67</td>\n",
       "      <td>1.13</td>\n",
       "      <td>31.43</td>\n",
       "      <td>1.36</td>\n",
       "      <td>1.00</td>\n",
       "      <td>44.29</td>\n",
       "    </tr>\n",
       "    <tr>\n",
       "      <th>moodle</th>\n",
       "      <td>Moodle</td>\n",
       "      <td>10.32</td>\n",
       "      <td>11.14</td>\n",
       "      <td>14.84</td>\n",
       "      <td>6.46</td>\n",
       "      <td>5.00</td>\n",
       "      <td>46.71</td>\n",
       "    </tr>\n",
       "    <tr>\n",
       "      <th>datamanagement</th>\n",
       "      <td>Data Management</td>\n",
       "      <td>4.81</td>\n",
       "      <td>4.55</td>\n",
       "      <td>25.12</td>\n",
       "      <td>4.28</td>\n",
       "      <td>3.00</td>\n",
       "      <td>33.44</td>\n",
       "    </tr>\n",
       "    <tr>\n",
       "      <th>mule</th>\n",
       "      <td>Mule</td>\n",
       "      <td>2.21</td>\n",
       "      <td>2.77</td>\n",
       "      <td>24.56</td>\n",
       "      <td>2.20</td>\n",
       "      <td>3.00</td>\n",
       "      <td>25.17</td>\n",
       "    </tr>\n",
       "    <tr>\n",
       "      <th>mulestudio</th>\n",
       "      <td>Mule Studio</td>\n",
       "      <td>3.24</td>\n",
       "      <td>2.30</td>\n",
       "      <td>22.03</td>\n",
       "      <td>3.14</td>\n",
       "      <td>3.00</td>\n",
       "      <td>24.34</td>\n",
       "    </tr>\n",
       "    <tr>\n",
       "      <th>springxd</th>\n",
       "      <td>Spring XD</td>\n",
       "      <td>1.89</td>\n",
       "      <td>1.53</td>\n",
       "      <td>22.82</td>\n",
       "      <td>1.68</td>\n",
       "      <td>2.00</td>\n",
       "      <td>31.24</td>\n",
       "    </tr>\n",
       "    <tr>\n",
       "      <th>talenddataquality</th>\n",
       "      <td>Talend Data Quality</td>\n",
       "      <td>3.93</td>\n",
       "      <td>4.08</td>\n",
       "      <td>11.75</td>\n",
       "      <td>3.13</td>\n",
       "      <td>3.00</td>\n",
       "      <td>29.74</td>\n",
       "    </tr>\n",
       "    <tr>\n",
       "      <th>talendesb</th>\n",
       "      <td>Talend ESB</td>\n",
       "      <td>0.71</td>\n",
       "      <td>0.91</td>\n",
       "      <td>21.66</td>\n",
       "      <td>0.70</td>\n",
       "      <td>1.00</td>\n",
       "      <td>23.06</td>\n",
       "    </tr>\n",
       "  </tbody>\n",
       "</table>\n",
       "</div>"
      ],
      "text/plain": [
       "                                Project  Mean MAE  Mean MdAE  Mean SA  \\\n",
       "mesos                             Mesos      1.11       0.78    27.78   \n",
       "usergrid                       Usergrid      1.09       0.76    19.48   \n",
       "appceleratorstudio  Appcelerator Studio      1.43       0.28    37.14   \n",
       "aptanastudio              Aptana Studio      3.01       2.45    30.80   \n",
       "titanium               Titanium SDK/CLI      2.46       2.03    32.25   \n",
       "duracloud                     DuraCloud      0.72       0.87    29.65   \n",
       "bamboo                           Bamboo      0.93       1.00    25.90   \n",
       "clover                           Clover      2.80       2.93    21.27   \n",
       "jirasoftware              Jira Software      1.67       1.13    31.43   \n",
       "moodle                           Moodle     10.32      11.14    14.84   \n",
       "datamanagement          Data Management      4.81       4.55    25.12   \n",
       "mule                               Mule      2.21       2.77    24.56   \n",
       "mulestudio                  Mule Studio      3.24       2.30    22.03   \n",
       "springxd                      Spring XD      1.89       1.53    22.82   \n",
       "talenddataquality   Talend Data Quality      3.93       4.08    11.75   \n",
       "talendesb                    Talend ESB      0.71       0.91    21.66   \n",
       "\n",
       "                    Median MAE  Median MdAE  Median SA  \n",
       "mesos                     1.12         1.00      27.61  \n",
       "usergrid                  1.03         1.00      23.88  \n",
       "appceleratorstudio        1.28         0.00      43.98  \n",
       "aptanastudio              3.08         3.00      29.13  \n",
       "titanium                  1.95         2.00      46.24  \n",
       "duracloud                 0.74         1.00      27.72  \n",
       "bamboo                    0.76         1.00      39.44  \n",
       "clover                    2.31         1.00      35.02  \n",
       "jirasoftware              1.36         1.00      44.29  \n",
       "moodle                    6.46         5.00      46.71  \n",
       "datamanagement            4.28         3.00      33.44  \n",
       "mule                      2.20         3.00      25.17  \n",
       "mulestudio                3.14         3.00      24.34  \n",
       "springxd                  1.68         2.00      31.24  \n",
       "talenddataquality         3.13         3.00      29.74  \n",
       "talendesb                 0.70         1.00      23.06  "
      ]
     },
     "execution_count": 500,
     "metadata": {},
     "output_type": "execute_result"
    }
   ],
   "source": [
    "metrics = {}\n",
    "for project in project_repos.keys():\n",
    "    story_points = pd.read_csv(data_path % project)['storypoint'].values.clip(1, story_points_clip[project]).astype('int32')\n",
    "    #story_points = pd.read_csv(data_path % project)['storypoint'].values.astype('int32')\n",
    "    num_test = int(round(len(story_points)*0.2))\n",
    "    count_train = np.bincount(story_points[:-num_test], minlength=story_points.max())\n",
    "    count_train = count_train/np.sum(count_train)\n",
    "    count_test = np.bincount(story_points[-num_test:], minlength=story_points.max())\n",
    "    count_test = count_test/np.sum(count_test)\n",
    "    count = np.dot(count_train.reshape((-1,1)), count_test.reshape((1, -1)))\n",
    "    random_mae = 0\n",
    "    for i in range(1, count.shape[0]):\n",
    "        random_mae += i * (count.trace(i) + count.trace(-i))\n",
    "    median_mae = np.mean(np.abs(np.median(story_points[:-num_test]) - story_points[-num_test:]))\n",
    "    median_mdae = np.median(np.abs(np.median(story_points[:-num_test]) - story_points[-num_test:]))\n",
    "    median_sa = (1 - median_mae/random_mae) * 100\n",
    "    mean_mae = np.mean(np.abs(np.mean(story_points[:-num_test]) - story_points[-num_test:]))\n",
    "    mean_mdae = np.median(np.abs(np.mean(story_points[:-num_test]) - story_points[-num_test:]))\n",
    "    mean_sa = (1 - mean_mae/random_mae) * 100\n",
    "    metrics[project] = [project_name[project], mean_mae, mean_mdae, mean_sa, median_mae, median_mdae, median_sa]\n",
    "table = pd.DataFrame.from_dict(metrics, orient='index', columns=['Project', 'Mean MAE', 'Mean MdAE', 'Mean SA', 'Median MAE', 'Median MdAE', 'Median SA'])\n",
    "table"
   ]
  },
  {
   "cell_type": "code",
   "execution_count": 501,
   "metadata": {},
   "outputs": [],
   "source": [
    "with open(tex_output % 'deep-se-mean-reproduction', 'w') as file:\n",
    "    table.to_latex(index=False, columns=['Project', 'Mean MAE', 'Mean MdAE', 'Mean SA'], buf=file)\n",
    "with open(tex_output % 'deep-se-median-reproduction', 'w') as file:\n",
    "    table.to_latex(index=False, columns=['Project', 'Median MAE', 'Median MdAE', 'Median SA'], buf=file)"
   ]
  },
  {
   "cell_type": "code",
   "execution_count": 334,
   "metadata": {},
   "outputs": [],
   "source": [
    "pd.options.display.float_format = '{:,.2f}'.format"
   ]
  },
  {
   "cell_type": "code",
   "execution_count": 40,
   "metadata": {},
   "outputs": [],
   "source": [
    "np.bincount?"
   ]
  },
  {
   "cell_type": "code",
   "execution_count": 6,
   "metadata": {},
   "outputs": [],
   "source": [
    "pd.DataFrame.add?"
   ]
  },
  {
   "cell_type": "code",
   "execution_count": null,
   "metadata": {},
   "outputs": [],
   "source": [
    "min(story_points)"
   ]
  },
  {
   "cell_type": "code",
   "execution_count": null,
   "metadata": {},
   "outputs": [],
   "source": [
    "\n",
    "count"
   ]
  },
  {
   "cell_type": "code",
   "execution_count": null,
   "metadata": {},
   "outputs": [],
   "source": [
    "count.trace(1)"
   ]
  },
  {
   "cell_type": "code",
   "execution_count": null,
   "metadata": {
    "scrolled": true
   },
   "outputs": [],
   "source": [
    "np.sum(count.diagonal(1))"
   ]
  },
  {
   "cell_type": "code",
   "execution_count": 17,
   "metadata": {},
   "outputs": [],
   "source": [
    "import io\n",
    "\n",
    "def carrega_vetor(fname):\n",
    "    fin = io.open(fname, 'r', encoding='utf-8', newline='\\n', errors='ignore')\n",
    "    n, d = map(int, fin.readline().split())\n",
    "    data = {}\n",
    "    for line in fin:\n",
    "        tokens = line.rstrip().split(' ')\n",
    "        data[tokens[0]] = np.array(tokens[1:], dtype=np.float32)\n",
    "    return data\n",
    "\n",
    "vetores = carrega_vetor('word_embeddings/crawl-300d-2M.vec')"
   ]
  },
  {
   "cell_type": "code",
   "execution_count": 35,
   "metadata": {},
   "outputs": [
    {
     "data": {
      "text/plain": [
       "(300,)"
      ]
     },
     "execution_count": 35,
     "metadata": {},
     "output_type": "execute_result"
    }
   ],
   "source": [
    "vetores['UNK'].shape"
   ]
  },
  {
   "cell_type": "code",
   "execution_count": null,
   "metadata": {},
   "outputs": [],
   "source": []
  },
  {
   "cell_type": "code",
   "execution_count": null,
   "metadata": {},
   "outputs": [],
   "source": []
  },
  {
   "cell_type": "code",
   "execution_count": null,
   "metadata": {},
   "outputs": [],
   "source": []
  },
  {
   "cell_type": "code",
   "execution_count": null,
   "metadata": {},
   "outputs": [],
   "source": []
  }
 ],
 "metadata": {
  "kernelspec": {
   "display_name": "Python 3",
   "language": "python",
   "name": "python3"
  },
  "language_info": {
   "codemirror_mode": {
    "name": "ipython",
    "version": 3
   },
   "file_extension": ".py",
   "mimetype": "text/x-python",
   "name": "python",
   "nbconvert_exporter": "python",
   "pygments_lexer": "ipython3",
   "version": "3.6.8"
  }
 },
 "nbformat": 4,
 "nbformat_minor": 2
}
